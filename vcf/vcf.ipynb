{
 "cells": [
  {
   "cell_type": "code",
   "execution_count": null,
   "id": "identical-remains",
   "metadata": {
    "ExecuteTime": {
     "end_time": "2021-10-27T23:20:56.120922Z",
     "start_time": "2021-10-27T23:20:55.718157Z"
    }
   },
   "outputs": [],
   "source": [
    "import os\n",
    "import copy\n",
    "import math\n",
    "\n",
    "import pandas as pd\n",
    "import numpy as np"
   ]
  },
  {
   "cell_type": "code",
   "execution_count": null,
   "id": "waiting-seeking",
   "metadata": {
    "ExecuteTime": {
     "end_time": "2021-10-27T23:20:56.135714Z",
     "start_time": "2021-10-27T23:20:56.123339Z"
    }
   },
   "outputs": [],
   "source": [
    "class VCFParcer:\n",
    "    def __init__(self):\n",
    "        self.info_columns = dict()\n",
    "\n",
    "    def info_row_parser(self, row):\n",
    "        new_row = dict()\n",
    "        for s in row['INFO'].split(';'):\n",
    "            result = s.split('=', maxsplit=1)\n",
    "            if len(result) == 2:\n",
    "                column, value = result[0], result[1]\n",
    "                new_row[column] = value\n",
    "            else:\n",
    "                column = result[0]\n",
    "                new_row[column] = None\n",
    "            if column not in self.info_columns:\n",
    "                self.info_columns[column] = None\n",
    "        new_row_ordered = copy.deepcopy(self.info_columns)\n",
    "        new_row_ordered.update(new_row)\n",
    "        return new_row_ordered\n",
    "\n",
    "    def info_parser(self, df):\n",
    "        return pd.concat(\n",
    "            [df, df.apply(self.info_row_parser, result_type='expand', axis=1)], \n",
    "            axis=1\n",
    "        ).drop(columns=['INFO'])\n",
    "    \n",
    "    def parse(self, path_in: str, path_out: str, chunksize=None, nrows=None):\n",
    "        names = ['CHR', 'POS', 'ID', 'REF', 'ALT', 'QUAL', 'FILTER', 'INFO']\n",
    "        df = pd.read_table(\n",
    "            path_in,\n",
    "            names=names,\n",
    "            chunksize=chunksize,\n",
    "            nrows=nrows,\n",
    "            comment='#',\n",
    "            sep='\\t',\n",
    "        )\n",
    "        if chunksize is not None:\n",
    "            iterations = 0\n",
    "            for chunk in df:\n",
    "                self.info_parser(chunk).to_csv(\n",
    "                    path_out, sep='\\t', index=False, header=False, mode='a')\n",
    "                iterations += 1\n",
    "                print('COUNT: ', iterations * chunksize)\n",
    "        else:\n",
    "            self.info_parser(df).to_csv(\n",
    "                path_out, sep='\\t', index=False)\n",
    "        return names[:-1] + list(self.info_columns)"
   ]
  },
  {
   "cell_type": "code",
   "execution_count": null,
   "id": "ceramic-turning",
   "metadata": {
    "ExecuteTime": {
     "end_time": "2021-10-27T23:20:56.887024Z",
     "start_time": "2021-10-27T23:20:56.884345Z"
    }
   },
   "outputs": [],
   "source": [
    "path_in = '/uftp/shared/clinvar.vcf'\n",
    "path_out = '/uftp/shared/clinvar_from_vcf.tsv'"
   ]
  },
  {
   "cell_type": "code",
   "execution_count": null,
   "id": "extra-healing",
   "metadata": {
    "ExecuteTime": {
     "end_time": "2021-10-27T23:23:58.236300Z",
     "start_time": "2021-10-27T23:20:57.251775Z"
    }
   },
   "outputs": [],
   "source": [
    "VCFParcer().parse(\n",
    "    path_in=path_in,\n",
    "    path_out=path_out,\n",
    ")"
   ]
  },
  {
   "cell_type": "code",
   "execution_count": null,
   "id": "mobile-ideal",
   "metadata": {
    "ExecuteTime": {
     "end_time": "2021-10-27T23:24:05.281596Z",
     "start_time": "2021-10-27T23:23:58.238625Z"
    }
   },
   "outputs": [],
   "source": [
    "res_df = pd.read_table(path_out)"
   ]
  },
  {
   "cell_type": "code",
   "execution_count": null,
   "id": "educational-collapse",
   "metadata": {
    "ExecuteTime": {
     "end_time": "2021-10-27T23:24:06.650521Z",
     "start_time": "2021-10-27T23:24:05.284270Z"
    }
   },
   "outputs": [],
   "source": [
    "mc = res_df['MC'].str.split(',')"
   ]
  },
  {
   "cell_type": "code",
   "execution_count": null,
   "id": "executive-kruger",
   "metadata": {
    "ExecuteTime": {
     "end_time": "2021-10-27T23:24:09.286523Z",
     "start_time": "2021-10-27T23:24:06.652783Z"
    }
   },
   "outputs": [],
   "source": [
    "def expand(writes):\n",
    "    so_parts = list()\n",
    "    conseq_names = list()\n",
    "    if isinstance(writes, list) or pd.notna(writes):\n",
    "        for x in writes:\n",
    "            so, consequence_name = x.split('|')\n",
    "            so_parts.append(so)\n",
    "            conseq_names.append(consequence_name)\n",
    "    return {'SO': ', '.join(so_parts), 'consequence': ', '.join(conseq_names)}\n",
    "\n",
    "so_conseq = pd.DataFrame(mc.apply(expand).to_list())"
   ]
  },
  {
   "cell_type": "code",
   "execution_count": null,
   "id": "statewide-fossil",
   "metadata": {
    "ExecuteTime": {
     "end_time": "2021-10-27T23:24:09.746531Z",
     "start_time": "2021-10-27T23:24:09.288598Z"
    }
   },
   "outputs": [],
   "source": [
    "df_updated = pd.concat([res_df, so_conseq], axis=1)"
   ]
  },
  {
   "cell_type": "code",
   "execution_count": null,
   "id": "scientific-prophet",
   "metadata": {
    "ExecuteTime": {
     "end_time": "2021-10-27T23:24:28.016218Z",
     "start_time": "2021-10-27T23:24:09.748560Z"
    }
   },
   "outputs": [],
   "source": [
    "df_updated.to_csv(path_out, sep='\\t', index=False)"
   ]
  },
  {
   "cell_type": "code",
   "execution_count": null,
   "id": "australian-mount",
   "metadata": {},
   "outputs": [],
   "source": []
  }
 ],
 "metadata": {
  "kernelspec": {
   "display_name": "user_python3.8",
   "language": "python",
   "name": "user_python3.8"
  },
  "language_info": {
   "codemirror_mode": {
    "name": "ipython",
    "version": 3
   },
   "file_extension": ".py",
   "mimetype": "text/x-python",
   "name": "python",
   "nbconvert_exporter": "python",
   "pygments_lexer": "ipython3",
   "version": "3.8.7"
  },
  "toc": {
   "base_numbering": 1,
   "nav_menu": {},
   "number_sections": true,
   "sideBar": true,
   "skip_h1_title": false,
   "title_cell": "Table of Contents",
   "title_sidebar": "Contents",
   "toc_cell": false,
   "toc_position": {},
   "toc_section_display": true,
   "toc_window_display": false
  }
 },
 "nbformat": 4,
 "nbformat_minor": 5
}
